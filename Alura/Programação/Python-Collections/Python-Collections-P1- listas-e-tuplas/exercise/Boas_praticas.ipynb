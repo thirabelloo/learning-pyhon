{
 "cells": [
  {
   "cell_type": "markdown",
   "metadata": {},
   "source": [
    "## Boas práticas\n",
    "\n",
    "Estamos desenvolvendo um projeto para o banco digital Bytebank que trabalha com contas salário. Na nossa classe de conta salário, implementamos os seguintes métodos :"
   ]
  },
  {
   "cell_type": "code",
   "execution_count": 2,
   "metadata": {},
   "outputs": [],
   "source": [
    "class ContaSalario:\n",
    "\n",
    "    def __init__(self, codigo) -> None:\n",
    "        self._codigo = codigo\n",
    "        self._saldo = 0\n",
    "\n",
    "    def __eq__(self, outro) -> bool:\n",
    "        if type(outro) != ContaSalario:\n",
    "            return False\n",
    "        \n",
    "        return self._codigo == outro._codigo and self._saldo == outro._saldo\n",
    "    \n",
    "    def __lt__(self, outro):\n",
    "        return self._saldo < outro._saldo\n",
    "\n",
    "    def deposita(self, valor):\n",
    "        self._saldo += valor\n",
    "\n",
    "    def __str__(self) -> str:\n",
    "        return \"[>> Código {} Saldo {} <<]\".format(self._codigo, self._saldo)"
   ]
  },
  {
   "cell_type": "markdown",
   "metadata": {},
   "source": [
    "Nenhum desses métodos retorna o saldo da conta salário e sabemos que, para manter as boas práticas, não podemos acessar diretamente o atributo da classe para obter o saldo que precisamos.\n",
    "\n",
    "Qual é a melhor maneira para se obter o saldo?"
   ]
  },
  {
   "cell_type": "code",
   "execution_count": 3,
   "metadata": {},
   "outputs": [
    {
     "name": "stdout",
     "output_type": "stream",
     "text": [
      "[>> Código 17 Saldo 500 <<]\n",
      "[>> Código 133 Saldo 510 <<]\n",
      "[>> Código 3 Saldo 1000 <<]\n"
     ]
    }
   ],
   "source": [
    "# Temos que importar o attrgetter e passar o valor do saldo por parâmetro key=attrgetter(\"_saldo\").\n",
    "from operator import attrgetter\n",
    "\n",
    "conta_do_guilherme = ContaSalario(17)\n",
    "conta_do_guilherme.deposita(500)\n",
    "\n",
    "conta_da_daniela = ContaSalario(3)\n",
    "conta_da_daniela.deposita(1000)\n",
    "\n",
    "conta_do_paulo = ContaSalario(133)\n",
    "conta_do_paulo.deposita(510)\n",
    "\n",
    "contas = [conta_do_guilherme, conta_da_daniela, conta_do_paulo]\n",
    "\n",
    "for conta in sorted(contas, key=attrgetter(\"_saldo\")):\n",
    "    print(conta)"
   ]
  },
  {
   "cell_type": "code",
   "execution_count": null,
   "metadata": {},
   "outputs": [],
   "source": []
  }
 ],
 "metadata": {
  "kernelspec": {
   "display_name": "venv",
   "language": "python",
   "name": "python3"
  },
  "language_info": {
   "codemirror_mode": {
    "name": "ipython",
    "version": 3
   },
   "file_extension": ".py",
   "mimetype": "text/x-python",
   "name": "python",
   "nbconvert_exporter": "python",
   "pygments_lexer": "ipython3",
   "version": "3.12.3"
  }
 },
 "nbformat": 4,
 "nbformat_minor": 2
}
