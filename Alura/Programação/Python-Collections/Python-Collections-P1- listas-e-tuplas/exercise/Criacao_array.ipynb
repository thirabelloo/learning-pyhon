{
 "cells": [
  {
   "cell_type": "markdown",
   "metadata": {},
   "source": [
    "## Criação do array\n",
    "\n",
    "Mayra é do setor de desenvolvimento de uma empresa. Foi pedido para que ela fizesse um array numérico em Python, utilizando a biblioteca `arr`, para guardar as notas dadas pelos clientes no aplicativo da empresa, mas Mayra não sabe quais são as características do `arr` do Python para criação de array.\n",
    "\n",
    "Quais seriam as características de criação deste array no Python?"
   ]
  },
  {
   "cell_type": "markdown",
   "metadata": {},
   "source": [
    "**RESPOSTA:** Para que o array do Python funcione, temos que passar o tipo dele."
   ]
  },
  {
   "cell_type": "markdown",
   "metadata": {},
   "source": []
  }
 ],
 "metadata": {
  "language_info": {
   "name": "python"
  }
 },
 "nbformat": 4,
 "nbformat_minor": 2
}
