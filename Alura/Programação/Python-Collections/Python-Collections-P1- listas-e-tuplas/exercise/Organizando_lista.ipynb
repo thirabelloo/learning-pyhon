{
 "cells": [
  {
   "cell_type": "markdown",
   "metadata": {},
   "source": [
    "## Organizando a lista\n",
    "\n",
    "Conforme foi passado na aula, aprendemos a ordenar a lista usando idades.sort(). Porém, podemos não querer alterar a lista original, mas visualizar os valores da lista em ordem crescente.\n",
    "\n",
    "    idades = [12,90,1,8,10,25,32,31,40,50]"
   ]
  },
  {
   "cell_type": "code",
   "execution_count": 1,
   "metadata": {},
   "outputs": [
    {
     "data": {
      "text/plain": [
       "[1, 8, 10, 12, 25, 31, 32, 40, 50, 90]"
      ]
     },
     "execution_count": 1,
     "metadata": {},
     "output_type": "execute_result"
    }
   ],
   "source": [
    "# Utilizaremos o sorted para retornar uma nova lista ordenada:\n",
    "idades = [12, 90, 1, 8, 10, 25, 32, 31, 40, 50]\n",
    "sorted(idades)"
   ]
  },
  {
   "cell_type": "code",
   "execution_count": null,
   "metadata": {},
   "outputs": [],
   "source": []
  }
 ],
 "metadata": {
  "kernelspec": {
   "display_name": "venv",
   "language": "python",
   "name": "python3"
  },
  "language_info": {
   "codemirror_mode": {
    "name": "ipython",
    "version": 3
   },
   "file_extension": ".py",
   "mimetype": "text/x-python",
   "name": "python",
   "nbconvert_exporter": "python",
   "pygments_lexer": "ipython3",
   "version": "3.12.3"
  }
 },
 "nbformat": 4,
 "nbformat_minor": 2
}
