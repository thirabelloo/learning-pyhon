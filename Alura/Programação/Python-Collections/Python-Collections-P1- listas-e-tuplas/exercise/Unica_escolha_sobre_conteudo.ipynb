{
 "cells": [
  {
   "cell_type": "markdown",
   "metadata": {},
   "source": [
    "## Única escolha sobre o conteúdo da aula\n",
    "\n",
    "Uma empresa está desenvolvendo um sistema para conta de bancos fazendo a implementação lógica em um dos modelos de conta salário."
   ]
  },
  {
   "cell_type": "code",
   "execution_count": 2,
   "metadata": {},
   "outputs": [],
   "source": [
    "class ContaSalario:\n",
    "\n",
    "  def __init__(self, codigo):\n",
    "    self._codigo = codigo\n",
    "    self._saldo = 0\n",
    "\n",
    "  def __eq__(self, outro):\n",
    "    if type(outro) != ContaSalario:\n",
    "      return False\n",
    "\n",
    "    return self._codigo == outro._codigo and self._saldo == outro._saldo\n",
    "\n",
    "  def __lt__(self, outro):\n",
    "    if self._saldo != outro._saldo:\n",
    "      return self._saldo < outro._saldo\n",
    "\n",
    "    return self._codigo < outro._codigo\n"
   ]
  },
  {
   "cell_type": "markdown",
   "metadata": {},
   "source": [
    "Até agora foram implementados os métodos `__eq__() ` e `__lt__()` , que comparam valores dos salários, então foram criadas três contas para teste de comparação entre elas."
   ]
  },
  {
   "cell_type": "markdown",
   "metadata": {},
   "source": [
    "    conta_do_guilherme = ContaSalario(1700)\n",
    "    conta_do_guilherme.deposita(500)\n",
    "\n",
    "    conta_da_daniela = ContaSalario(3)\n",
    "    conta_da_daniela.deposita(1000)\n",
    "\n",
    "    conta_do_paulo = ContaSalario(133)\n",
    "    conta_do_paulo.deposita(500)\n"
   ]
  },
  {
   "cell_type": "markdown",
   "metadata": {},
   "source": [
    "O banco quer comparar se o valor contido na conta do cliente é maior ou igual ou menor ou igual de outro cliente.\n",
    "\n",
    "Como podemos fazer isto?"
   ]
  },
  {
   "cell_type": "markdown",
   "metadata": {},
   "source": [
    "**RESPOSTA:** Podemos fazer uma anotação e fazer a importação da biblioteca total_ordering."
   ]
  },
  {
   "cell_type": "markdown",
   "metadata": {},
   "source": []
  }
 ],
 "metadata": {
  "kernelspec": {
   "display_name": "venv",
   "language": "python",
   "name": "python3"
  },
  "language_info": {
   "codemirror_mode": {
    "name": "ipython",
    "version": 3
   },
   "file_extension": ".py",
   "mimetype": "text/x-python",
   "name": "python",
   "nbconvert_exporter": "python",
   "pygments_lexer": "ipython3",
   "version": "3.12.3"
  }
 },
 "nbformat": 4,
 "nbformat_minor": 2
}
