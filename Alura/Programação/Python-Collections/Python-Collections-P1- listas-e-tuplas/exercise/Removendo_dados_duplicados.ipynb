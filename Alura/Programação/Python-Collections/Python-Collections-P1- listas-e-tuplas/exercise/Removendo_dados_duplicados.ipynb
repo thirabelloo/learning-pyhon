{
 "cells": [
  {
   "cell_type": "markdown",
   "metadata": {},
   "source": [
    "### Removendo dados duplicados\n",
    "\n",
    "Gabriel é programador e trabalha em uma escola dando aula de matemática. No fim do semestre, Gabriel passa as notas dos alunos para uma lista feita em Python que o ajuda no controle das notas. Um dia, acidentalmente, Gabriel duplicou as notas e precisava remover as duplicadas.\n",
    "\n",
    "notas = [2, 2, 3, 5]\n",
    "\n",
    "Como essa duplicidade pode ser removida?\n"
   ]
  },
  {
   "cell_type": "markdown",
   "metadata": {},
   "source": [
    "**RESPOSTA:** Utilizando a função`remove()´ e passando como parâmetro a nota duplicada para ser excluída. Essa função vai retirar a **primeira aparição** da nota, resolvendo a duplicidade."
   ]
  },
  {
   "cell_type": "markdown",
   "metadata": {},
   "source": []
  }
 ],
 "metadata": {
  "language_info": {
   "name": "python"
  }
 },
 "nbformat": 4,
 "nbformat_minor": 2
}
