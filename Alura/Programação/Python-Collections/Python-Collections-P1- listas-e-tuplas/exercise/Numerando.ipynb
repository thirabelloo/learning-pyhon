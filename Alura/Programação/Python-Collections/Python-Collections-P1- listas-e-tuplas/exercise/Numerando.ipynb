{
 "cells": [
  {
   "cell_type": "markdown",
   "metadata": {},
   "source": [
    "## Numerando\n",
    "\n",
    "Gabriela está revisando um código em Python que contém uma lista de idades, que está percorrendo esta lista e mostrando o índice e a idade:\n",
    "\n",
    "    idades = [15,87,37,45,56,32,49,37]\n",
    "    for i in range(len(idades)):\n",
    "        print(i,idades[i])\n",
    "\n",
    "\n",
    "Este código faz a numeração da idade e a põe um index ao lado de cada idade, mas isto é muito trabalhoso de se fazer.\n",
    "\n",
    "Como o código pode ser melhorado, de modo a facilitar a implementação?"
   ]
  },
  {
   "cell_type": "markdown",
   "metadata": {},
   "source": [
    "**RESPOSTA:** Utilizando o enumerate para percorrer nossa lista e numerar cada valor."
   ]
  },
  {
   "cell_type": "markdown",
   "metadata": {},
   "source": []
  }
 ],
 "metadata": {
  "language_info": {
   "name": "python"
  }
 },
 "nbformat": 4,
 "nbformat_minor": 2
}
