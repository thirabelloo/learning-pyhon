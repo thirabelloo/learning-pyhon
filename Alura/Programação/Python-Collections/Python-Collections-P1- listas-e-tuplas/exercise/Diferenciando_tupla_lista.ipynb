{
 "cells": [
  {
   "cell_type": "markdown",
   "metadata": {},
   "source": [
    "### Diferenciando tupla e lista\n",
    "\n",
    "Estamos estudando tuplas e listas. Temos um conjunto de dados que nos foi dado e precisamos adicionar cada conjunto em seu devido lugar. Os dados desses conjuntos são o saldo e agência bancária (o valor de agência bancária é imutável):\n",
    "\n",
    "agencia = [10, 22, 33, 44]\n",
    "\n",
    "saldo =  [1000, 2000, 3000, 4000]\n",
    "\n",
    "Qual a melhor forma de declarar cada um desses valores?"
   ]
  },
  {
   "cell_type": "code",
   "execution_count": 1,
   "metadata": {},
   "outputs": [],
   "source": [
    "# Utilizando tupla e lista\n",
    "agencia = (10,22,33,44)\n",
    "saldo = [1000,2000,3000,4000]"
   ]
  },
  {
   "cell_type": "code",
   "execution_count": null,
   "metadata": {},
   "outputs": [],
   "source": []
  }
 ],
 "metadata": {
  "kernelspec": {
   "display_name": "venv",
   "language": "python",
   "name": "python3"
  },
  "language_info": {
   "codemirror_mode": {
    "name": "ipython",
    "version": 3
   },
   "file_extension": ".py",
   "mimetype": "text/x-python",
   "name": "python",
   "nbconvert_exporter": "python",
   "pygments_lexer": "ipython3",
   "version": "3.12.3"
  }
 },
 "nbformat": 4,
 "nbformat_minor": 2
}
