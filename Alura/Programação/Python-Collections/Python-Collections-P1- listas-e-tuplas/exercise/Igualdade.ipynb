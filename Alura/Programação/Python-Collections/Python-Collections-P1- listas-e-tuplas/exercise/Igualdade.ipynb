{
 "cells": [
  {
   "cell_type": "markdown",
   "metadata": {},
   "source": [
    "## Igualdade\n",
    "\n",
    "No banco onde Guilherme trabalha está acontecendo um problema: está acontecendo a comparação de duas contas com os mesmos atributos. Observe o seguinte código:\n",
    "\n",
    "    conta_do_gui = ContaCorrente(15)\n",
    "\n",
    "    conta_da_dani = ContaCorrente(15)\n",
    "\n",
    "    if(conta_do_gui == conta_da_dani):\n",
    "        print(“São iguais”)\n",
    "    else:\n",
    "        print(“São diferentes”)\n",
    "\n",
    "Quando fazemos a comparação com o if, está retornando False, quando deveria retornar True.\n",
    "\n",
    "O que Guilherme pode fazer para que o retorno seja True?\n"
   ]
  },
  {
   "cell_type": "markdown",
   "metadata": {},
   "source": [
    "**RESPOSTA:** Implementar o `método eq`, onde comparamos o que está vindo como parâmetro ao invés do objeto inteiro."
   ]
  },
  {
   "cell_type": "markdown",
   "metadata": {},
   "source": []
  }
 ],
 "metadata": {
  "language_info": {
   "name": "python"
  }
 },
 "nbformat": 4,
 "nbformat_minor": 2
}
