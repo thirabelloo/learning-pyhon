{
 "cells": [
  {
   "cell_type": "markdown",
   "metadata": {},
   "source": [
    "## Entendendo a validação\n",
    "\n",
    "Nesta aula construímos uma classe que verifica se o CPF inserido pelo usuário é valido ou não. Inicialmente, o documento foi validado somente pela quantidade de caracteres e, em seguida, por meio de um pacote que baixamos no [PyPi(Python Package Index)](https://pypi.org/). A classe abaixo deve verificar o CPF inserido no momento que é instanciada:\n",
    "\n",
    "\n",
    "Com base no que vimos durante a aula indique qual dos objetos acima retorna `CPF valido`\n",
    "\n",
    "---"
   ]
  },
  {
   "cell_type": "code",
   "execution_count": 1,
   "metadata": {},
   "outputs": [
    {
     "name": "stdout",
     "output_type": "stream",
     "text": [
      "CPF valido\n"
     ]
    }
   ],
   "source": [
    "from validate_docbr import CPF\n",
    "\n",
    "class ValidaCPF:\n",
    "\n",
    "    def __init__(self, documento):\n",
    "        self.analisa_cpf(documento)\n",
    "\n",
    "    def analisa_cpf(self, documento):\n",
    "        if len(documento) == 11:\n",
    "            valida_cpf = CPF()\n",
    "            if valida_cpf.validate(documento):\n",
    "                self.cpf = documento\n",
    "                print(\"CPF valido\")\n",
    "            else:\n",
    "                print(\"CPF inserido não é valido\")\n",
    "        else:\n",
    "            print(\"Número de digitos incorreto\")\n",
    "\n",
    "cpf_um = \"1235436791\"\n",
    "cpf_dois = 12354367912\n",
    "cpf_tres = \"12354367996\"\n",
    "\n",
    "# \n",
    "objeto_cpf_tres = ValidaCPF(cpf_tres)"
   ]
  }
 ],
 "metadata": {
  "kernelspec": {
   "display_name": "venv",
   "language": "python",
   "name": "python3"
  },
  "language_info": {
   "codemirror_mode": {
    "name": "ipython",
    "version": 3
   },
   "file_extension": ".py",
   "mimetype": "text/x-python",
   "name": "python",
   "nbconvert_exporter": "python",
   "pygments_lexer": "ipython3",
   "version": "3.12.3"
  }
 },
 "nbformat": 4,
 "nbformat_minor": 2
}
