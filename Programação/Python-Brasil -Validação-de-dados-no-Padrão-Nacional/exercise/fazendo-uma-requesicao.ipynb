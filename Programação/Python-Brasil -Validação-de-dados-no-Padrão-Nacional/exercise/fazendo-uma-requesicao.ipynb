{
 "cells": [
  {
   "cell_type": "markdown",
   "metadata": {},
   "source": [
    "## Fazendo uma requisição\n",
    "\n",
    "Criar uma função que receba o CEP e retorna informações de cidade, estado e bairro"
   ]
  },
  {
   "cell_type": "code",
   "execution_count": 6,
   "metadata": {},
   "outputs": [],
   "source": [
    "import requests\n",
    "\n",
    "def retorna_cep(cep):\n",
    "    url = \"https://viacep.com.br/ws/{}/json/\".format(cep)\n",
    "\n",
    "\n",
    "def retornar_endereco(cep):\n",
    "    url = \"https://viacep.com.br/ws/{}/json/\".format(cep)\n",
    "    r = requests.get(url)\n",
    "    dados = r.json()\n",
    "    bairro = dados.get('bairro')\n",
    "    cidade = dados.get('localidade')\n",
    "    uf = dados.get('uf')\n",
    "    return bairro, cidade, uf\n"
   ]
  },
  {
   "cell_type": "code",
   "execution_count": 5,
   "metadata": {},
   "outputs": [
    {
     "name": "stdout",
     "output_type": "stream",
     "text": [
      "Sé São Paulo SP\n"
     ]
    }
   ],
   "source": [
    "bairro, cidade, uf = retornar_endereco(\"01001000\")\n",
    "print(bairro, cidade, uf)"
   ]
  }
 ],
 "metadata": {
  "kernelspec": {
   "display_name": "venv",
   "language": "python",
   "name": "python3"
  },
  "language_info": {
   "codemirror_mode": {
    "name": "ipython",
    "version": 3
   },
   "file_extension": ".py",
   "mimetype": "text/x-python",
   "name": "python",
   "nbconvert_exporter": "python",
   "pygments_lexer": "ipython3",
   "version": "3.12.3"
  }
 },
 "nbformat": 4,
 "nbformat_minor": 2
}
