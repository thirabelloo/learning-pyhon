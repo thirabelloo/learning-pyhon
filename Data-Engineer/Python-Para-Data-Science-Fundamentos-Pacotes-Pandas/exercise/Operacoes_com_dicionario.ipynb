{
 "cells": [
  {
   "cell_type": "markdown",
   "metadata": {},
   "source": [
    "## Operações básicas com dicionários\n",
    "\n",
    "Utilize o dicionário dados para responder a questão:"
   ]
  },
  {
   "cell_type": "code",
   "execution_count": 1,
   "metadata": {},
   "outputs": [],
   "source": [
    "dados = {\n",
    "    'Passat': {\n",
    "        'ano': 2012,\n",
    "        'km': 50000,\n",
    "        'valor': 75000,\n",
    "        'acessorios': ['Airbag', 'ABS']\n",
    "    }, \n",
    "    'Crossfox': {\n",
    "        'ano': 2015,\n",
    "        'km': 35000,\n",
    "        'valor': 25000\n",
    "    }\n",
    "}"
   ]
  },
  {
   "cell_type": "markdown",
   "metadata": {},
   "source": [
    "Note que `dados` tem dois itens, onde a chave (key) é o nome do veículo e o valor (value) é um dicionário com informações sobre este veículo (ano, quilometragem, valor e acessórios). Nossa tarefa nesta atividade é aprender como acessar as informações de um dicionário dentro de outro dicionário.\n",
    "\n",
    "Queremos o seguinte:\n",
    "\n",
    "1) Testar se a chave `acessorios` existe no dicionário de informações do carro `Crossfox` (Resposta: `False`)\n",
    "\n",
    "2) Testar se a chave `acessorios` existe no dicionário de informações do carro `Passat` (Resposta: `True`)\n",
    "\n",
    "3) Obter o valor do carro `Crossfox` (Resposta: 25000)\n",
    "\n",
    "4) Acessar o último acessório do carro `Passat` (Resposta: 'ABS')\n",
    "\n",
    "<br>\n",
    "\n",
    "Assinale a alternativa que mostra os códigos corretos para retornar e acessar as informações acima (Dica: utilize um notebook para verificar os códigos desta atividade):"
   ]
  },
  {
   "cell_type": "code",
   "execution_count": 2,
   "metadata": {},
   "outputs": [
    {
     "data": {
      "text/plain": [
       "{'Passat': {'ano': 2012,\n",
       "  'km': 50000,\n",
       "  'valor': 75000,\n",
       "  'acessorios': ['Airbag', 'ABS']},\n",
       " 'Crossfox': {'ano': 2015, 'km': 35000, 'valor': 25000}}"
      ]
     },
     "execution_count": 2,
     "metadata": {},
     "output_type": "execute_result"
    }
   ],
   "source": [
    "dados"
   ]
  },
  {
   "cell_type": "code",
   "execution_count": 9,
   "metadata": {},
   "outputs": [
    {
     "name": "stdout",
     "output_type": "stream",
     "text": [
      "False\n",
      "True\n",
      "25000\n",
      "ABS\n"
     ]
    }
   ],
   "source": [
    "print('acessorios' in dados['Crossfox'])\n",
    "print('acessorios' in dados['Passat'])\n",
    "print(dados['Crossfox']['valor'])\n",
    "print(dados['Passat']['acessorios'][-1])"
   ]
  },
  {
   "cell_type": "code",
   "execution_count": null,
   "metadata": {},
   "outputs": [],
   "source": []
  }
 ],
 "metadata": {
  "kernelspec": {
   "display_name": "venv",
   "language": "python",
   "name": "python3"
  },
  "language_info": {
   "codemirror_mode": {
    "name": "ipython",
    "version": 3
   },
   "file_extension": ".py",
   "mimetype": "text/x-python",
   "name": "python",
   "nbconvert_exporter": "python",
   "pygments_lexer": "ipython3",
   "version": "3.12.3"
  }
 },
 "nbformat": 4,
 "nbformat_minor": 2
}
