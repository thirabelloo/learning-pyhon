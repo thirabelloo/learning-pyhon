{
 "cells": [
  {
   "cell_type": "markdown",
   "metadata": {},
   "source": [
    "## Iterando em dicionários de dicionários\n",
    "\n",
    "Utilize o dicionário abaixo para responder esta atividade:\n",
    "\n",
    "    dados = {\n",
    "        'Crossfox': {'valor': 72000, 'ano': 2005}, \n",
    "        'DS5': {'valor': 125000, 'ano': 2015}, \n",
    "        'Fusca': {'valor': 150000, 'ano': 1976}, \n",
    "        'Jetta': {'valor': 88000, 'ano': 2010}, \n",
    "        'Passat': {'valor': 106000, 'ano': 1998}\n",
    "    }\n",
    "\n",
    "Selecione a alternativa que apresenta o código que imprime somente os nomes dos veículos com ano de fabricação maior ou igual a 2000."
   ]
  },
  {
   "cell_type": "code",
   "execution_count": 1,
   "metadata": {},
   "outputs": [
    {
     "data": {
      "text/plain": [
       "{'Crossfox': {'valor': 72000, 'ano': 2005},\n",
       " 'DS5': {'valor': 125000, 'ano': 2015},\n",
       " 'Fusca': {'valor': 150000, 'ano': 1976},\n",
       " 'Jetta': {'valor': 88000, 'ano': 2010},\n",
       " 'Passat': {'valor': 106000, 'ano': 1998}}"
      ]
     },
     "execution_count": 1,
     "metadata": {},
     "output_type": "execute_result"
    }
   ],
   "source": [
    "dados = {\n",
    "        'Crossfox': {'valor': 72000, 'ano': 2005}, \n",
    "        'DS5': {'valor': 125000, 'ano': 2015}, \n",
    "        'Fusca': {'valor': 150000, 'ano': 1976}, \n",
    "        'Jetta': {'valor': 88000, 'ano': 2010}, \n",
    "        'Passat': {'valor': 106000, 'ano': 1998}\n",
    "    }\n",
    "dados"
   ]
  },
  {
   "cell_type": "code",
   "execution_count": 14,
   "metadata": {},
   "outputs": [
    {
     "name": "stdout",
     "output_type": "stream",
     "text": [
      "Crossfox\n",
      "DS5\n",
      "Jetta\n"
     ]
    }
   ],
   "source": [
    "for item in dados.items():\n",
    "    if item[1]['ano'] >= 2000:\n",
    "        print(item[0])"
   ]
  },
  {
   "cell_type": "code",
   "execution_count": null,
   "metadata": {},
   "outputs": [],
   "source": []
  }
 ],
 "metadata": {
  "kernelspec": {
   "display_name": "venv",
   "language": "python",
   "name": "python3"
  },
  "language_info": {
   "codemirror_mode": {
    "name": "ipython",
    "version": 3
   },
   "file_extension": ".py",
   "mimetype": "text/x-python",
   "name": "python",
   "nbconvert_exporter": "python",
   "pygments_lexer": "ipython3",
   "version": "3.12.3"
  }
 },
 "nbformat": 4,
 "nbformat_minor": 2
}
