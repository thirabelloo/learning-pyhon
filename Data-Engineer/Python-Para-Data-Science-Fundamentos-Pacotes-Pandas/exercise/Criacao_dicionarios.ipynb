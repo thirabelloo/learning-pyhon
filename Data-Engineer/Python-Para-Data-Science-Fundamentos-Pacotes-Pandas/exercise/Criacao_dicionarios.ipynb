{
 "cells": [
  {
   "cell_type": "markdown",
   "metadata": {},
   "source": [
    "## Forma simples de criação de dicionários\n",
    "\n",
    "Vimos em nossa última aula algumas maneiras de se criar um dicionário.\n",
    "\n",
    "Tendo como base as duas listas abaixo:\n",
    "\n",
    "    nomes = ['Passat', 'Crossfox', 'DS5', 'C4', 'Jetta']\n",
    "    kms = [15000, 12000, 32000, 8000, 50000]\n",
    "\n",
    "Marque a alternativa que mostra uma das formas de se criar dicionários a partir de listas."
   ]
  },
  {
   "cell_type": "code",
   "execution_count": 1,
   "metadata": {},
   "outputs": [
    {
     "data": {
      "text/plain": [
       "{'Passat': 15000, 'Crossfox': 12000, 'DS5': 32000, 'C4': 8000, 'Jetta': 50000}"
      ]
     },
     "execution_count": 1,
     "metadata": {},
     "output_type": "execute_result"
    }
   ],
   "source": [
    "nomes = ['Passat', 'Crossfox', 'DS5', 'C4', 'Jetta']\n",
    "kms = [15000, 12000, 32000, 8000, 50000]\n",
    "\n",
    "dict(zip(nomes, kms))"
   ]
  }
 ],
 "metadata": {
  "kernelspec": {
   "display_name": "venv",
   "language": "python",
   "name": "python3"
  },
  "language_info": {
   "codemirror_mode": {
    "name": "ipython",
    "version": 3
   },
   "file_extension": ".py",
   "mimetype": "text/x-python",
   "name": "python",
   "nbconvert_exporter": "python",
   "pygments_lexer": "ipython3",
   "version": "3.12.3"
  }
 },
 "nbformat": 4,
 "nbformat_minor": 2
}
