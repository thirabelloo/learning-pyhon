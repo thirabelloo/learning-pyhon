{
 "cells": [
  {
   "cell_type": "markdown",
   "metadata": {},
   "source": [
    "## Selecionando itens em tuplas\n",
    "\n",
    "Em nosso primeiro treinamento de Python para Data Science, nós aprendemos como fazer seleções de itens em listas e em arrays Numpy. O procedimento para seleções em tuplas funciona da mesma forma. Considere a seguinte tupla:"
   ]
  },
  {
   "cell_type": "code",
   "execution_count": 1,
   "metadata": {},
   "outputs": [],
   "source": [
    "carros = (\n",
    "    (\n",
    "        'Jetta Variant',\n",
    "        'Motor 4.0 Turbo',\n",
    "        2003,\t\n",
    "        False,\n",
    "        ('Rodas de liga', 'Travas elétricas', 'Piloto')\n",
    "    ),\n",
    "    (\n",
    "        'Passat',\t\n",
    "        'Motor Diesel',\t\n",
    "        1991,\t\t\n",
    "        True,\t\n",
    "        ('Central multimídia', 'Teto panorâmico', 'Freios ABS')\n",
    "    )\n",
    ")\n"
   ]
  },
  {
   "cell_type": "markdown",
   "metadata": {},
   "source": [
    "Considere também os seguintes códigos de seleção:\n",
    "\n",
    "1) `carros[0][3]`\n",
    "\n",
    "\n",
    "2) `carros[-1][-1][-1]`\n",
    "\n",
    "\n",
    "3) `carros[0][-1][:2]`\n",
    "\n",
    "Assinale a alternativa que mostra o resultado obtido com os códigos de seleção acima."
   ]
  },
  {
   "cell_type": "code",
   "execution_count": 2,
   "metadata": {},
   "outputs": [
    {
     "data": {
      "text/plain": [
       "(('Jetta Variant',\n",
       "  'Motor 4.0 Turbo',\n",
       "  2003,\n",
       "  False,\n",
       "  ('Rodas de liga', 'Travas elétricas', 'Piloto')),\n",
       " ('Passat',\n",
       "  'Motor Diesel',\n",
       "  1991,\n",
       "  True,\n",
       "  ('Central multimídia', 'Teto panorâmico', 'Freios ABS')))"
      ]
     },
     "execution_count": 2,
     "metadata": {},
     "output_type": "execute_result"
    }
   ],
   "source": [
    "carros"
   ]
  },
  {
   "cell_type": "code",
   "execution_count": 3,
   "metadata": {},
   "outputs": [
    {
     "name": "stdout",
     "output_type": "stream",
     "text": [
      "False\n",
      "Freios ABS\n",
      "('Rodas de liga', 'Travas elétricas')\n"
     ]
    }
   ],
   "source": [
    "print(carros[0][3])\n",
    "print(carros[-1][-1][-1])\n",
    "print(carros[0][-1][:2])"
   ]
  },
  {
   "cell_type": "code",
   "execution_count": null,
   "metadata": {},
   "outputs": [],
   "source": []
  }
 ],
 "metadata": {
  "kernelspec": {
   "display_name": "venv",
   "language": "python",
   "name": "python3"
  },
  "language_info": {
   "codemirror_mode": {
    "name": "ipython",
    "version": 3
   },
   "file_extension": ".py",
   "mimetype": "text/x-python",
   "name": "python",
   "nbconvert_exporter": "python",
   "pygments_lexer": "ipython3",
   "version": "3.12.3"
  }
 },
 "nbformat": 4,
 "nbformat_minor": 2
}
