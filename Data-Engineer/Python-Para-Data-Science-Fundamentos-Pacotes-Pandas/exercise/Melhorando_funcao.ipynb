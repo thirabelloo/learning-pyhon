{
 "cells": [
  {
   "cell_type": "markdown",
   "metadata": {},
   "source": [
    "## Melhorando a nossa função\n",
    "\n",
    "No problema anterior, definimos uma função para obter a quilometragem média anual de cada veículo em um dataset. Precisamos melhorar um pouco a nossa função e obter valores que possam ser reutilizados em outras partes do nosso projeto.\n",
    "\n",
    "Aprendemos em nosso último vídeo como criar funções que retornam valores, e é isso que precisamos para resolver este problema. A estrutura a seguir é a definição de uma função que calcula as quilometragens médias anuais de cada veículo e retorna um dicionário com os nomes dos veículos como chaves e as quilometragens médias como valores:\n",
    "\n",
    "    dados = {\n",
    "        'Crossfox': {'km': 35000, 'ano': 2005}, \n",
    "        'DS5': {'km': 17000, 'ano': 2015}, \n",
    "        'Fusca': {'km': 130000, 'ano': 1979}, \n",
    "        'Jetta': {'km': 56000, 'ano': 2011}, \n",
    "        'Passat': {'km': 62000, 'ano': 1999}\n",
    "    }\n",
    "\n",
    "    def km_media(dataset, ano_atual):\n",
    "        result = {}\n",
    "        for item in dataset.items():\n",
    "            media = item[1]['km'] / (ano_atual - item[1]['ano'])\n",
    "            _________________________________        \n",
    "        ________________\n",
    "\n",
    "km_media(dados, 2019)\n",
    "\n",
    "    {'Crossfox': 2500.0,\n",
    "    'DS5': 4250.0,\n",
    "    'Fusca': 3250.0,\n",
    "    'Jetta': 7000.0,\n",
    "    'Passat': 3100.0}\n",
    "\n",
    "\n",
    "Assinale a alternativa que completa corretamente as lacunas da nossa função."
   ]
  },
  {
   "cell_type": "code",
   "execution_count": 1,
   "metadata": {},
   "outputs": [
    {
     "data": {
      "text/plain": [
       "{'Crossfox': {'km': 35000, 'ano': 2005},\n",
       " 'DS5': {'km': 17000, 'ano': 2015},\n",
       " 'Fusca': {'km': 130000, 'ano': 1979},\n",
       " 'Jetta': {'km': 56000, 'ano': 2011},\n",
       " 'Passat': {'km': 62000, 'ano': 1999}}"
      ]
     },
     "execution_count": 1,
     "metadata": {},
     "output_type": "execute_result"
    }
   ],
   "source": [
    "dados = {\n",
    "    'Crossfox': {'km': 35000, 'ano': 2005}, \n",
    "    'DS5': {'km': 17000, 'ano': 2015}, \n",
    "    'Fusca': {'km': 130000, 'ano': 1979}, \n",
    "    'Jetta': {'km': 56000, 'ano': 2011}, \n",
    "    'Passat': {'km': 62000, 'ano': 1999}\n",
    "}\n",
    "\n",
    "dados"
   ]
  },
  {
   "cell_type": "code",
   "execution_count": 16,
   "metadata": {},
   "outputs": [],
   "source": [
    "def km_media(dataset, ano_atual):\n",
    "    result = {}\n",
    "    for item in dataset.items():\n",
    "        media = item[1]['km'] / (ano_atual - item[1]['ano'])\n",
    "        result.update({item[0]: media})\n",
    "    return result"
   ]
  },
  {
   "cell_type": "code",
   "execution_count": 17,
   "metadata": {},
   "outputs": [
    {
     "data": {
      "text/plain": [
       "{'Crossfox': 2500.0,\n",
       " 'DS5': 4250.0,\n",
       " 'Fusca': 3250.0,\n",
       " 'Jetta': 7000.0,\n",
       " 'Passat': 3100.0}"
      ]
     },
     "execution_count": 17,
     "metadata": {},
     "output_type": "execute_result"
    }
   ],
   "source": [
    "km_media(dados, 2019)"
   ]
  }
 ],
 "metadata": {
  "kernelspec": {
   "display_name": "venv",
   "language": "python",
   "name": "python3"
  },
  "language_info": {
   "codemirror_mode": {
    "name": "ipython",
    "version": 3
   },
   "file_extension": ".py",
   "mimetype": "text/x-python",
   "name": "python",
   "nbconvert_exporter": "python",
   "pygments_lexer": "ipython3",
   "version": "3.12.3"
  }
 },
 "nbformat": 4,
 "nbformat_minor": 2
}
